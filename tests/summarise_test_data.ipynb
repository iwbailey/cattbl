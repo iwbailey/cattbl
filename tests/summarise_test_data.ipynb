{
 "cells": [
  {
   "cell_type": "markdown",
   "metadata": {},
   "source": [
    "Show some summaries of the example data"
   ]
  },
  {
   "cell_type": "code",
   "execution_count": 3,
   "metadata": {},
   "outputs": [],
   "source": [
    "import os\n",
    "import pandas as pd\n",
    "\n",
    "foldername = \"test_data\"\n",
    "filename_peqt = os.path.join(foldername, \"PEQT_example.feather\")\n",
    "filename_elt = os.path.join(foldername, \"ELT_example.feather\")\n",
    "filename_pelt = os.path.join(foldername, \"PELT_example.feather\")\n",
    "\n"
   ]
  },
  {
   "cell_type": "code",
   "execution_count": 4,
   "metadata": {
    "tags": []
   },
   "outputs": [
    {
     "output_type": "stream",
     "name": "stdout",
     "text": "Wall time: 686 ms\n9,259,938 rows\n"
    },
    {
     "output_type": "display_data",
     "data": {
      "text/plain": "   PeriodIndex  EventId           EventDate  RepNum  LossQuantile\n0            1  1510002 2013-04-16 16:38:48       1      0.148516\n1            1  1510008 2013-05-30 13:40:38       1      0.512657\n2            1  1510011 2013-04-14 12:12:47       1      0.535263\n3            1  1510011 2013-07-11 13:26:08       2      0.754850\n4            1  1510014 2013-04-20 18:05:44       1      0.103763",
      "text/html": "<div>\n<style scoped>\n    .dataframe tbody tr th:only-of-type {\n        vertical-align: middle;\n    }\n\n    .dataframe tbody tr th {\n        vertical-align: top;\n    }\n\n    .dataframe thead th {\n        text-align: right;\n    }\n</style>\n<table border=\"1\" class=\"dataframe\">\n  <thead>\n    <tr style=\"text-align: right;\">\n      <th></th>\n      <th>PeriodIndex</th>\n      <th>EventId</th>\n      <th>EventDate</th>\n      <th>RepNum</th>\n      <th>LossQuantile</th>\n    </tr>\n  </thead>\n  <tbody>\n    <tr>\n      <th>0</th>\n      <td>1</td>\n      <td>1510002</td>\n      <td>2013-04-16 16:38:48</td>\n      <td>1</td>\n      <td>0.148516</td>\n    </tr>\n    <tr>\n      <th>1</th>\n      <td>1</td>\n      <td>1510008</td>\n      <td>2013-05-30 13:40:38</td>\n      <td>1</td>\n      <td>0.512657</td>\n    </tr>\n    <tr>\n      <th>2</th>\n      <td>1</td>\n      <td>1510011</td>\n      <td>2013-04-14 12:12:47</td>\n      <td>1</td>\n      <td>0.535263</td>\n    </tr>\n    <tr>\n      <th>3</th>\n      <td>1</td>\n      <td>1510011</td>\n      <td>2013-07-11 13:26:08</td>\n      <td>2</td>\n      <td>0.754850</td>\n    </tr>\n    <tr>\n      <th>4</th>\n      <td>1</td>\n      <td>1510014</td>\n      <td>2013-04-20 18:05:44</td>\n      <td>1</td>\n      <td>0.103763</td>\n    </tr>\n  </tbody>\n</table>\n</div>"
     },
     "metadata": {}
    },
    {
     "output_type": "display_data",
     "data": {
      "text/plain": "<pandas.io.formats.style.Styler at 0x23986ff4a48>",
      "text/html": "<style  type=\"text/css\" >\n</style><table id=\"T_db42d_\" ><thead>    <tr>        <th class=\"blank level0\" ></th>        <th class=\"col_heading level0 col0\" >Number Valid Entries</th>    </tr></thead><tbody>\n                <tr>\n                        <th id=\"T_db42d_level0_row0\" class=\"row_heading level0 row0\" >PeriodIndex</th>\n                        <td id=\"T_db42d_row0_col0\" class=\"data row0 col0\" >9,259,938</td>\n            </tr>\n            <tr>\n                        <th id=\"T_db42d_level0_row1\" class=\"row_heading level0 row1\" >EventId</th>\n                        <td id=\"T_db42d_row1_col0\" class=\"data row1 col0\" >9,259,938</td>\n            </tr>\n            <tr>\n                        <th id=\"T_db42d_level0_row2\" class=\"row_heading level0 row2\" >EventDate</th>\n                        <td id=\"T_db42d_row2_col0\" class=\"data row2 col0\" >9,259,938</td>\n            </tr>\n            <tr>\n                        <th id=\"T_db42d_level0_row3\" class=\"row_heading level0 row3\" >RepNum</th>\n                        <td id=\"T_db42d_row3_col0\" class=\"data row3 col0\" >9,259,938</td>\n            </tr>\n            <tr>\n                        <th id=\"T_db42d_level0_row4\" class=\"row_heading level0 row4\" >LossQuantile</th>\n                        <td id=\"T_db42d_row4_col0\" class=\"data row4 col0\" >9,259,938</td>\n            </tr>\n    </tbody></table>"
     },
     "metadata": {}
    },
    {
     "output_type": "display_data",
     "data": {
      "text/plain": "<pandas.io.formats.style.Styler at 0x239881d0ec8>",
      "text/html": "<style  type=\"text/css\" >\n</style><table id=\"T_1b254_\" ><thead>    <tr>        <th class=\"blank level0\" ></th>        <th class=\"col_heading level0 col0\" >Number Unique Vals</th>    </tr></thead><tbody>\n                <tr>\n                        <th id=\"T_1b254_level0_row0\" class=\"row_heading level0 row0\" >PeriodIndex</th>\n                        <td id=\"T_1b254_row0_col0\" class=\"data row0 col0\" >100,000</td>\n            </tr>\n            <tr>\n                        <th id=\"T_1b254_level0_row1\" class=\"row_heading level0 row1\" >EventId</th>\n                        <td id=\"T_1b254_row1_col0\" class=\"data row1 col0\" >83,501</td>\n            </tr>\n            <tr>\n                        <th id=\"T_1b254_level0_row2\" class=\"row_heading level0 row2\" >RepNum</th>\n                        <td id=\"T_1b254_row2_col0\" class=\"data row2 col0\" >9</td>\n            </tr>\n    </tbody></table>"
     },
     "metadata": {}
    },
    {
     "output_type": "display_data",
     "data": {
      "text/plain": "<pandas.io.formats.style.Styler at 0x239879ee588>",
      "text/html": "<style  type=\"text/css\" >\n</style><table id=\"T_cd6cb_\" ><thead>    <tr>        <th class=\"blank level0\" ></th>        <th class=\"col_heading level0 col0\" >LossQuantile Stats</th>    </tr></thead><tbody>\n                <tr>\n                        <th id=\"T_cd6cb_level0_row0\" class=\"row_heading level0 row0\" >mean</th>\n                        <td id=\"T_cd6cb_row0_col0\" class=\"data row0 col0\" >0.50</td>\n            </tr>\n            <tr>\n                        <th id=\"T_cd6cb_level0_row1\" class=\"row_heading level0 row1\" >std</th>\n                        <td id=\"T_cd6cb_row1_col0\" class=\"data row1 col0\" >0.29</td>\n            </tr>\n            <tr>\n                        <th id=\"T_cd6cb_level0_row2\" class=\"row_heading level0 row2\" >min</th>\n                        <td id=\"T_cd6cb_row2_col0\" class=\"data row2 col0\" >0.00</td>\n            </tr>\n            <tr>\n                        <th id=\"T_cd6cb_level0_row3\" class=\"row_heading level0 row3\" >25%</th>\n                        <td id=\"T_cd6cb_row3_col0\" class=\"data row3 col0\" >0.25</td>\n            </tr>\n            <tr>\n                        <th id=\"T_cd6cb_level0_row4\" class=\"row_heading level0 row4\" >50%</th>\n                        <td id=\"T_cd6cb_row4_col0\" class=\"data row4 col0\" >0.50</td>\n            </tr>\n            <tr>\n                        <th id=\"T_cd6cb_level0_row5\" class=\"row_heading level0 row5\" >75%</th>\n                        <td id=\"T_cd6cb_row5_col0\" class=\"data row5 col0\" >0.75</td>\n            </tr>\n            <tr>\n                        <th id=\"T_cd6cb_level0_row6\" class=\"row_heading level0 row6\" >max</th>\n                        <td id=\"T_cd6cb_row6_col0\" class=\"data row6 col0\" >1.00</td>\n            </tr>\n    </tbody></table>"
     },
     "metadata": {}
    }
   ],
   "source": [
    "## PEQT summary\n",
    "%time peqt = pd.read_feather(filename_peqt)\n",
    "print(f\"{len(peqt):,.0f} rows\")\n",
    "display(peqt.head())\n",
    "\n",
    "display((peqt.count().rename('Number Valid Entries').to_frame()\n",
    "         .style.format(\"{:,d}\")))\n",
    "display((peqt[['PeriodIndex', 'EventId', 'RepNum']].nunique()\n",
    "         .rename('Number Unique Vals').to_frame()\n",
    "         .style.format(\"{:,d}\")))\n",
    "display((peqt['LossQuantile'].describe().drop('count')\n",
    "         .rename('LossQuantile Stats').to_frame()\n",
    "         .style.format(\"{:.2f}\")))"
   ]
  },
  {
   "cell_type": "code",
   "execution_count": 15,
   "metadata": {
    "tags": []
   },
   "outputs": [
    {
     "output_type": "stream",
     "name": "stdout",
     "text": "58,073 rows\n"
    },
    {
     "output_type": "display_data",
     "data": {
      "text/plain": "   EVENTID    PERSPVALUE       STDDEVI       STDDEVC      EXPVALUE\n0  1510001  5.770734e+06  2.902632e+06  4.148461e+06  3.069843e+11\n1  1510002  6.039176e+06  2.534347e+06  5.911018e+06  3.564537e+11\n2  1510003  9.982610e+06  3.420254e+06  4.608285e+06  1.355446e+11\n3  1510004  1.183806e+07  3.933989e+06  2.714816e+07  3.156007e+12\n4  1510005  2.022620e+07  3.556903e+06  1.531474e+07  4.028784e+11",
      "text/html": "<div>\n<style scoped>\n    .dataframe tbody tr th:only-of-type {\n        vertical-align: middle;\n    }\n\n    .dataframe tbody tr th {\n        vertical-align: top;\n    }\n\n    .dataframe thead th {\n        text-align: right;\n    }\n</style>\n<table border=\"1\" class=\"dataframe\">\n  <thead>\n    <tr style=\"text-align: right;\">\n      <th></th>\n      <th>EVENTID</th>\n      <th>PERSPVALUE</th>\n      <th>STDDEVI</th>\n      <th>STDDEVC</th>\n      <th>EXPVALUE</th>\n    </tr>\n  </thead>\n  <tbody>\n    <tr>\n      <th>0</th>\n      <td>1510001</td>\n      <td>5.770734e+06</td>\n      <td>2.902632e+06</td>\n      <td>4.148461e+06</td>\n      <td>3.069843e+11</td>\n    </tr>\n    <tr>\n      <th>1</th>\n      <td>1510002</td>\n      <td>6.039176e+06</td>\n      <td>2.534347e+06</td>\n      <td>5.911018e+06</td>\n      <td>3.564537e+11</td>\n    </tr>\n    <tr>\n      <th>2</th>\n      <td>1510003</td>\n      <td>9.982610e+06</td>\n      <td>3.420254e+06</td>\n      <td>4.608285e+06</td>\n      <td>1.355446e+11</td>\n    </tr>\n    <tr>\n      <th>3</th>\n      <td>1510004</td>\n      <td>1.183806e+07</td>\n      <td>3.933989e+06</td>\n      <td>2.714816e+07</td>\n      <td>3.156007e+12</td>\n    </tr>\n    <tr>\n      <th>4</th>\n      <td>1510005</td>\n      <td>2.022620e+07</td>\n      <td>3.556903e+06</td>\n      <td>1.531474e+07</td>\n      <td>4.028784e+11</td>\n    </tr>\n  </tbody>\n</table>\n</div>"
     },
     "metadata": {}
    },
    {
     "output_type": "display_data",
     "data": {
      "text/plain": "<pandas.io.formats.style.Styler at 0x23989cb2948>",
      "text/html": "<style  type=\"text/css\" >\n</style><table id=\"T_49fce_\" ><thead>    <tr>        <th class=\"blank level0\" ></th>        <th class=\"col_heading level0 col0\" >Number Valid Entries</th>    </tr></thead><tbody>\n                <tr>\n                        <th id=\"T_49fce_level0_row0\" class=\"row_heading level0 row0\" >EVENTID</th>\n                        <td id=\"T_49fce_row0_col0\" class=\"data row0 col0\" >58,073</td>\n            </tr>\n            <tr>\n                        <th id=\"T_49fce_level0_row1\" class=\"row_heading level0 row1\" >PERSPVALUE</th>\n                        <td id=\"T_49fce_row1_col0\" class=\"data row1 col0\" >58,073</td>\n            </tr>\n            <tr>\n                        <th id=\"T_49fce_level0_row2\" class=\"row_heading level0 row2\" >STDDEVI</th>\n                        <td id=\"T_49fce_row2_col0\" class=\"data row2 col0\" >58,073</td>\n            </tr>\n            <tr>\n                        <th id=\"T_49fce_level0_row3\" class=\"row_heading level0 row3\" >STDDEVC</th>\n                        <td id=\"T_49fce_row3_col0\" class=\"data row3 col0\" >58,073</td>\n            </tr>\n            <tr>\n                        <th id=\"T_49fce_level0_row4\" class=\"row_heading level0 row4\" >EXPVALUE</th>\n                        <td id=\"T_49fce_row4_col0\" class=\"data row4 col0\" >58,073</td>\n            </tr>\n    </tbody></table>"
     },
     "metadata": {}
    },
    {
     "output_type": "display_data",
     "data": {
      "text/plain": "<pandas.io.formats.style.Styler at 0x239896c5cc8>",
      "text/html": "<style  type=\"text/css\" >\n</style><table id=\"T_f3f2f_\" ><thead>    <tr>        <th class=\"blank level0\" ></th>        <th class=\"col_heading level0 col0\" >Number Unique Vals</th>    </tr></thead><tbody>\n                <tr>\n                        <th id=\"T_f3f2f_level0_row0\" class=\"row_heading level0 row0\" >EVENTID</th>\n                        <td id=\"T_f3f2f_row0_col0\" class=\"data row0 col0\" >58,073</td>\n            </tr>\n    </tbody></table>"
     },
     "metadata": {}
    },
    {
     "output_type": "display_data",
     "data": {
      "text/plain": "<pandas.io.formats.style.Styler at 0x239882e4188>",
      "text/html": "<style  type=\"text/css\" >\n</style><table id=\"T_7667d_\" ><thead>    <tr>        <th class=\"blank level0\" ></th>        <th class=\"col_heading level0 col0\" >PERSPVALUE</th>        <th class=\"col_heading level0 col1\" >PERSPVALUEn</th>    </tr></thead><tbody>\n                <tr>\n                        <th id=\"T_7667d_level0_row0\" class=\"row_heading level0 row0\" >mean</th>\n                        <td id=\"T_7667d_row0_col0\" class=\"data row0 col0\" >77,444,487.1</td>\n                        <td id=\"T_7667d_row0_col1\" class=\"data row0 col1\" >0.0350%</td>\n            </tr>\n            <tr>\n                        <th id=\"T_7667d_level0_row1\" class=\"row_heading level0 row1\" >std</th>\n                        <td id=\"T_7667d_row1_col0\" class=\"data row1 col0\" >221,579,249.7</td>\n                        <td id=\"T_7667d_row1_col1\" class=\"data row1 col1\" >0.4726%</td>\n            </tr>\n            <tr>\n                        <th id=\"T_7667d_level0_row2\" class=\"row_heading level0 row2\" >min</th>\n                        <td id=\"T_7667d_row2_col0\" class=\"data row2 col0\" >2.3</td>\n                        <td id=\"T_7667d_row2_col1\" class=\"data row2 col1\" >0.0000%</td>\n            </tr>\n            <tr>\n                        <th id=\"T_7667d_level0_row3\" class=\"row_heading level0 row3\" >25%</th>\n                        <td id=\"T_7667d_row3_col0\" class=\"data row3 col0\" >5,763,943.1</td>\n                        <td id=\"T_7667d_row3_col1\" class=\"data row3 col1\" >0.0054%</td>\n            </tr>\n            <tr>\n                        <th id=\"T_7667d_level0_row4\" class=\"row_heading level0 row4\" >50%</th>\n                        <td id=\"T_7667d_row4_col0\" class=\"data row4 col0\" >20,289,175.9</td>\n                        <td id=\"T_7667d_row4_col1\" class=\"data row4 col1\" >0.0111%</td>\n            </tr>\n            <tr>\n                        <th id=\"T_7667d_level0_row5\" class=\"row_heading level0 row5\" >75%</th>\n                        <td id=\"T_7667d_row5_col0\" class=\"data row5 col0\" >58,515,594.1</td>\n                        <td id=\"T_7667d_row5_col1\" class=\"data row5 col1\" >0.0240%</td>\n            </tr>\n            <tr>\n                        <th id=\"T_7667d_level0_row6\" class=\"row_heading level0 row6\" >max</th>\n                        <td id=\"T_7667d_row6_col0\" class=\"data row6 col0\" >7,099,532,171.3</td>\n                        <td id=\"T_7667d_row6_col1\" class=\"data row6 col1\" >50.4382%</td>\n            </tr>\n    </tbody></table>"
     },
     "metadata": {}
    }
   ],
   "source": [
    "## ELT summary\n",
    "elt = pd.read_feather(filename_elt)\n",
    "print(f\"{len(elt):,.0f} rows\")\n",
    "display(elt.head())\n",
    "\n",
    "display((elt.count().rename('Number Valid Entries').to_frame()\n",
    "         .style.format(\"{:,d}\")))\n",
    "display((elt[['EVENTID']].nunique()\n",
    "         .rename('Number Unique Vals').to_frame()\n",
    "         .style.format(\"{:,d}\")))\n",
    "display((elt.assign(PERSPVALUEn=lambda df: df['PERSPVALUE'] / df['EXPVALUE'])[['PERSPVALUE', 'PERSPVALUEn']].describe()\n",
    "         .drop('count')\n",
    "        #  .rename('PERSPVALUE Stats').to_frame()\n",
    "         .style.format({'PERSPVALUE': \"{:,.1f}\", 'PERSPVALUEn': \"{:.4%}\"})))"
   ]
  },
  {
   "cell_type": "code",
   "execution_count": 19,
   "metadata": {
    "tags": []
   },
   "outputs": [
    {
     "output_type": "stream",
     "name": "stdout",
     "text": "6,483,341 rows\n"
    },
    {
     "output_type": "display_data",
     "data": {
      "text/plain": "   PeriodIndex  EventId  RepNum      EventDate   MaxExposure          Loss\n0            1  1510027       1  1358758641000  1.223492e+11  4.953518e+06\n1            1  1541120       1  1360522958000  9.272194e+07  1.042802e-01\n2            1  1513277       1  1361610720000  4.193678e+10  4.786598e+06\n3            1  1544878       1  1362665126000  1.795681e+09  2.633925e+00\n4            1  1534387       1  1362873602000  2.678104e+11  2.411029e+07",
      "text/html": "<div>\n<style scoped>\n    .dataframe tbody tr th:only-of-type {\n        vertical-align: middle;\n    }\n\n    .dataframe tbody tr th {\n        vertical-align: top;\n    }\n\n    .dataframe thead th {\n        text-align: right;\n    }\n</style>\n<table border=\"1\" class=\"dataframe\">\n  <thead>\n    <tr style=\"text-align: right;\">\n      <th></th>\n      <th>PeriodIndex</th>\n      <th>EventId</th>\n      <th>RepNum</th>\n      <th>EventDate</th>\n      <th>MaxExposure</th>\n      <th>Loss</th>\n    </tr>\n  </thead>\n  <tbody>\n    <tr>\n      <th>0</th>\n      <td>1</td>\n      <td>1510027</td>\n      <td>1</td>\n      <td>1358758641000</td>\n      <td>1.223492e+11</td>\n      <td>4.953518e+06</td>\n    </tr>\n    <tr>\n      <th>1</th>\n      <td>1</td>\n      <td>1541120</td>\n      <td>1</td>\n      <td>1360522958000</td>\n      <td>9.272194e+07</td>\n      <td>1.042802e-01</td>\n    </tr>\n    <tr>\n      <th>2</th>\n      <td>1</td>\n      <td>1513277</td>\n      <td>1</td>\n      <td>1361610720000</td>\n      <td>4.193678e+10</td>\n      <td>4.786598e+06</td>\n    </tr>\n    <tr>\n      <th>3</th>\n      <td>1</td>\n      <td>1544878</td>\n      <td>1</td>\n      <td>1362665126000</td>\n      <td>1.795681e+09</td>\n      <td>2.633925e+00</td>\n    </tr>\n    <tr>\n      <th>4</th>\n      <td>1</td>\n      <td>1534387</td>\n      <td>1</td>\n      <td>1362873602000</td>\n      <td>2.678104e+11</td>\n      <td>2.411029e+07</td>\n    </tr>\n  </tbody>\n</table>\n</div>"
     },
     "metadata": {}
    },
    {
     "output_type": "display_data",
     "data": {
      "text/plain": "<pandas.io.formats.style.Styler at 0x23989952f48>",
      "text/html": "<style  type=\"text/css\" >\n</style><table id=\"T_31038_\" ><thead>    <tr>        <th class=\"blank level0\" ></th>        <th class=\"col_heading level0 col0\" >Number Valid Entries</th>    </tr></thead><tbody>\n                <tr>\n                        <th id=\"T_31038_level0_row0\" class=\"row_heading level0 row0\" >PeriodIndex</th>\n                        <td id=\"T_31038_row0_col0\" class=\"data row0 col0\" >6,483,341</td>\n            </tr>\n            <tr>\n                        <th id=\"T_31038_level0_row1\" class=\"row_heading level0 row1\" >EventId</th>\n                        <td id=\"T_31038_row1_col0\" class=\"data row1 col0\" >6,483,341</td>\n            </tr>\n            <tr>\n                        <th id=\"T_31038_level0_row2\" class=\"row_heading level0 row2\" >RepNum</th>\n                        <td id=\"T_31038_row2_col0\" class=\"data row2 col0\" >6,483,341</td>\n            </tr>\n            <tr>\n                        <th id=\"T_31038_level0_row3\" class=\"row_heading level0 row3\" >EventDate</th>\n                        <td id=\"T_31038_row3_col0\" class=\"data row3 col0\" >6,483,341</td>\n            </tr>\n            <tr>\n                        <th id=\"T_31038_level0_row4\" class=\"row_heading level0 row4\" >MaxExposure</th>\n                        <td id=\"T_31038_row4_col0\" class=\"data row4 col0\" >6,483,341</td>\n            </tr>\n            <tr>\n                        <th id=\"T_31038_level0_row5\" class=\"row_heading level0 row5\" >Loss</th>\n                        <td id=\"T_31038_row5_col0\" class=\"data row5 col0\" >6,483,341</td>\n            </tr>\n    </tbody></table>"
     },
     "metadata": {}
    },
    {
     "output_type": "display_data",
     "data": {
      "text/plain": "<pandas.io.formats.style.Styler at 0x23989cbe288>",
      "text/html": "<style  type=\"text/css\" >\n</style><table id=\"T_ca15c_\" ><thead>    <tr>        <th class=\"blank level0\" ></th>        <th class=\"col_heading level0 col0\" >Number Unique Vals</th>    </tr></thead><tbody>\n                <tr>\n                        <th id=\"T_ca15c_level0_row0\" class=\"row_heading level0 row0\" >PeriodIndex</th>\n                        <td id=\"T_ca15c_row0_col0\" class=\"data row0 col0\" >100,000</td>\n            </tr>\n            <tr>\n                        <th id=\"T_ca15c_level0_row1\" class=\"row_heading level0 row1\" >EventId</th>\n                        <td id=\"T_ca15c_row1_col0\" class=\"data row1 col0\" >58,073</td>\n            </tr>\n            <tr>\n                        <th id=\"T_ca15c_level0_row2\" class=\"row_heading level0 row2\" >RepNum</th>\n                        <td id=\"T_ca15c_row2_col0\" class=\"data row2 col0\" >8</td>\n            </tr>\n    </tbody></table>"
     },
     "metadata": {}
    },
    {
     "output_type": "display_data",
     "data": {
      "text/plain": "<pandas.io.formats.style.Styler at 0x239896b8c88>",
      "text/html": "<style  type=\"text/css\" >\n</style><table id=\"T_bf7ea_\" ><thead>    <tr>        <th class=\"blank level0\" ></th>        <th class=\"col_heading level0 col0\" >Loss</th>        <th class=\"col_heading level0 col1\" >Loss_n</th>    </tr></thead><tbody>\n                <tr>\n                        <th id=\"T_bf7ea_level0_row0\" class=\"row_heading level0 row0\" >mean</th>\n                        <td id=\"T_bf7ea_row0_col0\" class=\"data row0 col0\" >41,996,140.0</td>\n                        <td id=\"T_bf7ea_row0_col1\" class=\"data row0 col1\" >0.0280%</td>\n            </tr>\n            <tr>\n                        <th id=\"T_bf7ea_level0_row1\" class=\"row_heading level0 row1\" >std</th>\n                        <td id=\"T_bf7ea_row1_col0\" class=\"data row1 col0\" >198,583,840.0</td>\n                        <td id=\"T_bf7ea_row1_col1\" class=\"data row1 col1\" >0.3415%</td>\n            </tr>\n            <tr>\n                        <th id=\"T_bf7ea_level0_row2\" class=\"row_heading level0 row2\" >min</th>\n                        <td id=\"T_bf7ea_row2_col0\" class=\"data row2 col0\" >0.0</td>\n                        <td id=\"T_bf7ea_row2_col1\" class=\"data row2 col1\" >0.0000%</td>\n            </tr>\n            <tr>\n                        <th id=\"T_bf7ea_level0_row3\" class=\"row_heading level0 row3\" >25%</th>\n                        <td id=\"T_bf7ea_row3_col0\" class=\"data row3 col0\" >99,055.5</td>\n                        <td id=\"T_bf7ea_row3_col1\" class=\"data row3 col1\" >0.0001%</td>\n            </tr>\n            <tr>\n                        <th id=\"T_bf7ea_level0_row4\" class=\"row_heading level0 row4\" >50%</th>\n                        <td id=\"T_bf7ea_row4_col0\" class=\"data row4 col0\" >2,777,291.0</td>\n                        <td id=\"T_bf7ea_row4_col1\" class=\"data row4 col1\" >0.0027%</td>\n            </tr>\n            <tr>\n                        <th id=\"T_bf7ea_level0_row5\" class=\"row_heading level0 row5\" >75%</th>\n                        <td id=\"T_bf7ea_row5_col0\" class=\"data row5 col0\" >18,514,780.0</td>\n                        <td id=\"T_bf7ea_row5_col1\" class=\"data row5 col1\" >0.0139%</td>\n            </tr>\n            <tr>\n                        <th id=\"T_bf7ea_level0_row6\" class=\"row_heading level0 row6\" >max</th>\n                        <td id=\"T_bf7ea_row6_col0\" class=\"data row6 col0\" >69,273,083,904.0</td>\n                        <td id=\"T_bf7ea_row6_col1\" class=\"data row6 col1\" >89.4682%</td>\n            </tr>\n    </tbody></table>"
     },
     "metadata": {}
    }
   ],
   "source": [
    "## PELT Summary\n",
    "pelt = pd.read_feather(filename_pelt)\n",
    "print(f\"{len(pelt):,.0f} rows\")\n",
    "display(pelt.head())\n",
    "\n",
    "display((pelt.count().rename('Number Valid Entries').to_frame()\n",
    "         .style.format(\"{:,d}\")))\n",
    "display((pelt[['PeriodIndex', 'EventId', 'RepNum']].nunique()\n",
    "         .rename('Number Unique Vals').to_frame()\n",
    "         .style.format(\"{:,d}\")))       \n",
    "display((pelt.assign(Loss_n=lambda df: df['Loss'] / df['MaxExposure'])[['Loss', 'Loss_n']].describe()\n",
    "         .drop('count')\n",
    "         .style.format({'Loss': \"{:,.1f}\", 'Loss_n': \"{:.4%}\"})))"
   ]
  }
 ],
 "metadata": {
  "language_info": {
   "codemirror_mode": {
    "name": "ipython",
    "version": 3
   },
   "file_extension": ".py",
   "mimetype": "text/x-python",
   "name": "python",
   "nbconvert_exporter": "python",
   "pygments_lexer": "ipython3",
   "version": "3.7.10-final"
  },
  "orig_nbformat": 2,
  "kernelspec": {
   "name": "python371064bitreconciliationconda9b02014ac2b44d07aa0cbded5be5ea40",
   "display_name": "Python 3.7.10 64-bit ('reconciliation': conda)"
  }
 },
 "nbformat": 4,
 "nbformat_minor": 2
}