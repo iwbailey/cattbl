{
 "cells": [
  {
   "cell_type": "code",
   "execution_count": 5,
   "metadata": {},
   "outputs": [
    {
     "name": "stdout",
     "output_type": "stream",
     "text": [
      "Limit is 2.0. Agg limit is 7.0\n",
      "Limit can be reinstated 2.5 times\n",
      "For loss of 5.5, limit is reinstated 2.5 times\n",
      "reinst 1: 1.0 * 0.075 = 0.075\n",
      "reinst 2: 1.0 * 0.075 = 0.075\n",
      "reinst 3: 0.5 * 0.075 = 0.0375\n",
      "0.1875\n",
      "0.375\n"
     ]
    },
    {
     "data": {
      "text/plain": [
       "[0.075, 0.075, 0.075]"
      ]
     },
     "execution_count": 5,
     "metadata": {},
     "output_type": "execute_result"
    }
   ],
   "source": [
    "import pandas as pd\n",
    "import numpy as np\n",
    "\n",
    "\n",
    "# 2 reinstatements at a fixed cost. 1.75 reinstatements used\n",
    "limit, agg_limit, reinst_costs, agg_loss = 2.0, 6.0, 0.075, 3.5\n",
    "\n",
    "# 2.5 reinstatements at a fixed cost. 2.25 reinstatements used\n",
    "limit, agg_limit, reinst_costs, agg_loss = 2.0, 7.0, 0.075, 4.5\n",
    "\n",
    "# # 2.5 reinstatements at a fixed cost. 2.5 reinstatements used\n",
    "# limit, agg_limit, reinst_costs, agg_loss = 2.0, 7.0, 0.075, 5.5\n",
    "\n",
    "# # 2.5 reinstatements with first free. 2.5 reinstatements used\n",
    "# limit, agg_limit, reinst_costs, agg_loss = 2.0, 7.0, [0.0, 0.075, 0.075], 5.5\n",
    "\n",
    "# # Wrong number of reinstatements specified\n",
    "# limit, agg_limit, reinst_costs, agg_loss = 2.0, 7.0, [0.0, 0.075], 5.5\n",
    "# limit, agg_limit, reinst_costs, agg_loss = 2.0, 7.0, [0.0, 0.075, 0.075, 0.075], 5.5\n",
    "\n",
    "# # No reinstatemnts\n",
    "# limit, agg_limit, reinst_costs, agg_loss = 2.0, 2.0, 0.0, 5.5\n",
    "# limit, agg_limit, reinst_costs, agg_loss = 2.0, 1.5, 0.0, 5.5\n",
    "\n",
    "\n",
    "\n",
    "print(f\"Limit is {limit}. Agg limit is {agg_limit}\")\n",
    "\n",
    "n_avail_reinst = max(agg_limit - limit, 0.0) / limit\n",
    "print(f\"Limit can be reinstated {n_avail_reinst} times\")\n",
    "\n",
    "n_reinst = min(agg_loss / limit, n_avail_reinst)\n",
    "print(f\"For loss of {agg_loss}, limit is reinstated {n_reinst} times\")\n",
    "\n",
    "if reinst_costs is None:\n",
    "    reinst_costs = 0.0\n",
    "\n",
    "if isinstance(reinst_costs, (float, int)):\n",
    "    reinst_costs = [reinst_costs] * int(np.ceil(n_avail_reinst))\n",
    "else:\n",
    "    if len(reinst_costs) != int(np.ceil(n_avail_reinst)):\n",
    "        raise(ValueError(\"{} costs specified for {} reinstatements\".format(\n",
    "            len(reinst_costs), n_avail_reinst)))\n",
    "    \n",
    "total_reinst = 0.0\n",
    "for i, c in enumerate(reinst_costs):\n",
    "    amount_reinstated = min(max(n_reinst - i, 0.0), 1.0)\n",
    "    cost = amount_reinstated * c\n",
    "    print(f\"reinst {i+1}: {amount_reinstated} * {c} = {cost}\")\n",
    "    total_reinst += cost\n",
    "\n",
    "print(total_reinst)\n",
    "print(total_reinst * limit)\n",
    "\n",
    "\n",
    "\n",
    "reinst_costs"
   ]
  },
  {
   "cell_type": "code",
   "execution_count": 6,
   "metadata": {},
   "outputs": [
    {
     "name": "stdout",
     "output_type": "stream",
     "text": [
      "0.375\n"
     ]
    }
   ],
   "source": [
    "from pandas_ylt.layer import Layer\n",
    "\n",
    "\n",
    "this_lyr = Layer(limit, agg_limit=agg_limit, reinst_rate=reinst_costs)\n",
    "print(this_lyr.reinst_cost(agg_loss))"
   ]
  }
 ],
 "metadata": {
  "kernelspec": {
   "display_name": "venv",
   "language": "python",
   "name": "python3"
  },
  "language_info": {
   "codemirror_mode": {
    "name": "ipython",
    "version": 3
   },
   "file_extension": ".py",
   "mimetype": "text/x-python",
   "name": "python",
   "nbconvert_exporter": "python",
   "pygments_lexer": "ipython3",
   "version": "3.10.12"
  }
 },
 "nbformat": 4,
 "nbformat_minor": 2
}
